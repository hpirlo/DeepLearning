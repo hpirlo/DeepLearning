{
  "nbformat": 4,
  "nbformat_minor": 0,
  "metadata": {
    "colab": {
      "provenance": []
    },
    "kernelspec": {
      "name": "python3",
      "display_name": "Python 3"
    },
    "language_info": {
      "name": "python"
    },
    "accelerator": "GPU",
    "gpuClass": "standard"
  },
  "cells": [
    {
      "cell_type": "code",
      "execution_count": 2,
      "metadata": {
        "id": "n11v0I3AzB_c"
      },
      "outputs": [],
      "source": [
        "import pandas as pd\n",
        "import numpy as np\n",
        "import matplotlib.pyplot as plt\n",
        "import keras\n",
        "import os\n",
        "import tensorflow as tf\n",
        "from keras.preprocessing.image import ImageDataGenerator\n",
        "from keras.models import Sequential, Model\n",
        "from keras import layers\n",
        "from keras.layers import Conv2D, MaxPooling2D, Embedding\n",
        "from keras.layers import GRU, Input, LSTM, Activation, Dropout, Flatten, Dense\n",
        "from keras.callbacks import EarlyStopping\n",
        "from sklearn.metrics import confusion_matrix, ConfusionMatrixDisplay\n",
        "from keras.preprocessing.text import Tokenizer\n",
        "from keras_preprocessing.sequence import pad_sequences\n",
        "from sklearn.model_selection import train_test_split\n",
        "import random"
      ]
    },
    {
      "cell_type": "code",
      "source": [
        "from google.colab import drive\n",
        "drive.mount('/content/drive')"
      ],
      "metadata": {
        "colab": {
          "base_uri": "https://localhost:8080/"
        },
        "id": "uZdR6XIe1HpL",
        "outputId": "c3492143-9cbe-438a-aa97-5622bf68b6e6"
      },
      "execution_count": 4,
      "outputs": [
        {
          "output_type": "stream",
          "name": "stdout",
          "text": [
            "Mounted at /content/drive\n"
          ]
        }
      ]
    },
    {
      "cell_type": "code",
      "source": [
        "# some parts written with the help of the following link:\n",
        "# https://towardsdatascience.com/how-to-implement-seq2seq-lstm-model-in-keras-shortcutnlp-6f355f3e5639\n",
        "\n",
        "input = []\n",
        "target = []\n",
        "\n",
        "filename='/content/drive/MyDrive/ferdousi.txt'\n",
        "with open(filename, \"r\", encoding=\"utf-8\") as f:\n",
        "    lines = f.read().split(\"\\n\")\n",
        "i = 0\n",
        "for line in lines:\n",
        "  if i > 1:\n",
        "    if (i % 2) == 0:\n",
        "      input.append(line)\n",
        "    if (i % 2) == 1:\n",
        "      target_text = \"<BOS> \" + line + \" <EOS>\"\n",
        "      target.append(target_text)\n",
        "  i=i+1\n",
        "\n",
        "input = input[:-1]  # input and target most be the same size\n",
        "\n",
        "max_encoder_seq_length = max([len(txt.split()) for txt in input], default=0)\n",
        "max_decoder_seq_length = max([len(txt.split()) for txt in target], default=0)\n",
        "print(\"encoder max number of words: \" + str(max_encoder_seq_length))\n",
        "print(\"decoder max number of words: \" + str(max_decoder_seq_length))\n"
      ],
      "metadata": {
        "colab": {
          "base_uri": "https://localhost:8080/"
        },
        "id": "OltdDb0BJlFg",
        "outputId": "189a4549-25e5-4116-e3be-e196f1c39fa4"
      },
      "execution_count": 5,
      "outputs": [
        {
          "output_type": "stream",
          "name": "stdout",
          "text": [
            "encoder max number of words: 11\n",
            "decoder max number of words: 13\n"
          ]
        }
      ]
    },
    {
      "cell_type": "code",
      "source": [
        "vocab_size = 2000\n",
        "tokenizer = Tokenizer(num_words=vocab_size)\n",
        "tokenizer.fit_on_texts(input+target)\n",
        "dictionary = tokenizer.word_index\n",
        "random_words = dict(random.sample(dictionary.items(), 10))\n",
        "print(\"20 random samples of vaocabulary:\")\n",
        "print(random_words)\n",
        "print('\\n')\n",
        "encoder_sequences = tokenizer.texts_to_sequences(input)\n",
        "decoder_sequences = tokenizer.texts_to_sequences(target)\n",
        "\n",
        "print(\"input samples and ids:\")\n",
        "print(input[0:5])\n",
        "print(encoder_sequences[0:5])\n",
        "print('\\n')\n",
        "\n",
        "print(\"target samples and ids:\")\n",
        "print(target[0:5])\n",
        "print(encoder_sequences[0:5])\n",
        "print('\\n')\n",
        "\n",
        "encoder_input_data = pad_sequences(encoder_sequences, maxlen=max_encoder_seq_length, dtype='int32', padding='post', truncating='post')\n",
        "decoder_input_data = pad_sequences(decoder_sequences, maxlen=max_decoder_seq_length, dtype='int32', padding='post', truncating='post')\n",
        "\n",
        "print(\"5 smaples padded sentences:\")\n",
        "print(encoder_input_data[:5])\n",
        "print(decoder_input_data[:5])"
      ],
      "metadata": {
        "colab": {
          "base_uri": "https://localhost:8080/"
        },
        "id": "IJMPm5VfADPk",
        "outputId": "0a54feef-3f77-4449-c261-bc636101ac29"
      },
      "execution_count": 6,
      "outputs": [
        {
          "output_type": "stream",
          "name": "stdout",
          "text": [
            "20 random samples of vaocabulary:\n",
            "{'گزینی': 5225, 'ببرید': 1551, 'ایدنک': 11081, 'برافگند': 1280, 'غلامان': 3604, 'جسته': 3943, 'شاهشان': 4135, 'توتنهاشدی': 17582, 'بگویند': 3547, 'نستوده': 15703}\n",
            "\n",
            "\n",
            "input samples and ids:\n",
            "['به نام خداوند جان و خرد', 'خداوند نام و خداوند جای', 'خداوند کیوان و گردان سپهر', 'ز نام و نشان و گمان برترست', 'به بینندگان آفریننده را']\n",
            "[[4, 82, 364, 118, 3, 100], [364, 82, 3, 364, 60], [364, 1186, 3, 158, 264], [6, 82, 3, 381, 3, 498], [4, 9]]\n",
            "\n",
            "\n",
            "target samples and ids:\n",
            "['<BOS> کزین برتر اندیشه برنگذرد <EOS>', '<BOS> خداوند روزی ده رهنمای <EOS>', '<BOS> فروزنده ماه و ناهید و مهر <EOS>', '<BOS> نگارندهٔ بر شده پیکرست <EOS>', '<BOS> نبینی مرنجان دو بیننده را <EOS>']\n",
            "[[4, 82, 364, 118, 3, 100], [364, 82, 3, 364, 60], [364, 1186, 3, 158, 264], [6, 82, 3, 381, 3, 498], [4, 9]]\n",
            "\n",
            "\n",
            "5 smaples padded sentences:\n",
            "[[   4   82  364  118    3  100    0    0    0    0    0]\n",
            " [ 364   82    3  364   60    0    0    0    0    0    0]\n",
            " [ 364 1186    3  158  264    0    0    0    0    0    0]\n",
            " [   6   82    3  381    3  498    0    0    0    0    0]\n",
            " [   4    9    0    0    0    0    0    0    0    0    0]]\n",
            "[[   1  366  698  285    2    0    0    0    0    0    0    0    0]\n",
            " [   1  364  667  260  428    2    0    0    0    0    0    0    0]\n",
            " [   1  125    3    3  155    2    0    0    0    0    0    0    0]\n",
            " [   1    8  411    2    0    0    0    0    0    0    0    0    0]\n",
            " [   1 1022   42    9    2    0    0    0    0    0    0    0    0]]\n"
          ]
        }
      ]
    },
    {
      "cell_type": "code",
      "source": [
        "decoder_output_data = np.zeros((len(input), max_decoder_seq_length, vocab_size), dtype=\"int32\")\n",
        "for i, seqs in enumerate(decoder_input_data):\n",
        "      for j, seq in enumerate(seqs):\n",
        "          if j > 0:\n",
        "              decoder_output_data[i][j][seq] = 1.\n",
        "print(decoder_output_data.shape)\n",
        "\n",
        "print(decoder_output_data[:5])"
      ],
      "metadata": {
        "colab": {
          "base_uri": "https://localhost:8080/"
        },
        "id": "HoJDULq1KkpU",
        "outputId": "768da924-76fe-4bf4-b1c5-6b7f595847b2"
      },
      "execution_count": 7,
      "outputs": [
        {
          "output_type": "stream",
          "name": "stdout",
          "text": [
            "(49608, 13, 2000)\n",
            "[[[0 0 0 ... 0 0 0]\n",
            "  [0 0 0 ... 0 0 0]\n",
            "  [0 0 0 ... 0 0 0]\n",
            "  ...\n",
            "  [1 0 0 ... 0 0 0]\n",
            "  [1 0 0 ... 0 0 0]\n",
            "  [1 0 0 ... 0 0 0]]\n",
            "\n",
            " [[0 0 0 ... 0 0 0]\n",
            "  [0 0 0 ... 0 0 0]\n",
            "  [0 0 0 ... 0 0 0]\n",
            "  ...\n",
            "  [1 0 0 ... 0 0 0]\n",
            "  [1 0 0 ... 0 0 0]\n",
            "  [1 0 0 ... 0 0 0]]\n",
            "\n",
            " [[0 0 0 ... 0 0 0]\n",
            "  [0 0 0 ... 0 0 0]\n",
            "  [0 0 0 ... 0 0 0]\n",
            "  ...\n",
            "  [1 0 0 ... 0 0 0]\n",
            "  [1 0 0 ... 0 0 0]\n",
            "  [1 0 0 ... 0 0 0]]\n",
            "\n",
            " [[0 0 0 ... 0 0 0]\n",
            "  [0 0 0 ... 0 0 0]\n",
            "  [0 0 0 ... 0 0 0]\n",
            "  ...\n",
            "  [1 0 0 ... 0 0 0]\n",
            "  [1 0 0 ... 0 0 0]\n",
            "  [1 0 0 ... 0 0 0]]\n",
            "\n",
            " [[0 0 0 ... 0 0 0]\n",
            "  [0 0 0 ... 0 0 0]\n",
            "  [0 0 0 ... 0 0 0]\n",
            "  ...\n",
            "  [1 0 0 ... 0 0 0]\n",
            "  [1 0 0 ... 0 0 0]\n",
            "  [1 0 0 ... 0 0 0]]]\n"
          ]
        }
      ]
    },
    {
      "cell_type": "code",
      "source": [
        "latent_dim = 256\n",
        "\n",
        "encoder_inputs = Input(shape=(max_encoder_seq_length, ), dtype='int32',)\n",
        "encoder_embedding = Embedding(input_dim = vocab_size, \n",
        "                          output_dim = latent_dim)(encoder_inputs)\n",
        "encoder_LSTM = LSTM(latent_dim, return_state=True)\n",
        "encoder_outputs, state_h, state_c = encoder_LSTM(encoder_embedding)\n",
        "\n",
        "decoder_inputs = Input(shape=(max_decoder_seq_length, ), dtype='int32',)\n",
        "decoder_embedding = Embedding(input_dim = vocab_size, \n",
        "                          output_dim = latent_dim)(decoder_inputs)\n",
        "decoder_LSTM = LSTM(latent_dim, return_state=True, return_sequences=True)\n",
        "decoder_outputs, _, _ = decoder_LSTM(decoder_embedding, initial_state=[state_h, state_c])\n",
        "\n",
        "decoder_dense = keras.layers.Dense(vocab_size, activation=\"softmax\")\n",
        "decoder_outputs = decoder_dense(decoder_outputs)\n",
        "model_lstm = Model([encoder_inputs, decoder_inputs], decoder_outputs)\n",
        "\n",
        "model_lstm.summary()\n"
      ],
      "metadata": {
        "colab": {
          "base_uri": "https://localhost:8080/"
        },
        "id": "H_1zJQIyTb_s",
        "outputId": "7a96f315-cd6b-438c-9b04-8ed3067fe529"
      },
      "execution_count": 8,
      "outputs": [
        {
          "output_type": "stream",
          "name": "stdout",
          "text": [
            "Model: \"model\"\n",
            "__________________________________________________________________________________________________\n",
            " Layer (type)                   Output Shape         Param #     Connected to                     \n",
            "==================================================================================================\n",
            " input_1 (InputLayer)           [(None, 11)]         0           []                               \n",
            "                                                                                                  \n",
            " input_2 (InputLayer)           [(None, 13)]         0           []                               \n",
            "                                                                                                  \n",
            " embedding (Embedding)          (None, 11, 256)      512000      ['input_1[0][0]']                \n",
            "                                                                                                  \n",
            " embedding_1 (Embedding)        (None, 13, 256)      512000      ['input_2[0][0]']                \n",
            "                                                                                                  \n",
            " lstm (LSTM)                    [(None, 256),        525312      ['embedding[0][0]']              \n",
            "                                 (None, 256),                                                     \n",
            "                                 (None, 256)]                                                     \n",
            "                                                                                                  \n",
            " lstm_1 (LSTM)                  [(None, 13, 256),    525312      ['embedding_1[0][0]',            \n",
            "                                 (None, 256),                     'lstm[0][1]',                   \n",
            "                                 (None, 256)]                     'lstm[0][2]']                   \n",
            "                                                                                                  \n",
            " dense (Dense)                  (None, 13, 2000)     514000      ['lstm_1[0][0]']                 \n",
            "                                                                                                  \n",
            "==================================================================================================\n",
            "Total params: 2,588,624\n",
            "Trainable params: 2,588,624\n",
            "Non-trainable params: 0\n",
            "__________________________________________________________________________________________________\n"
          ]
        }
      ]
    },
    {
      "cell_type": "code",
      "source": [
        "model_lstm.compile(\n",
        "    optimizer=\"adam\", loss=\"categorical_crossentropy\", metrics=[\"accuracy\"]\n",
        ")\n",
        "history = model_lstm.fit(\n",
        "    [encoder_input_data, decoder_input_data],\n",
        "    decoder_output_data,\n",
        "    batch_size=100,\n",
        "    epochs=5,\n",
        "    validation_split=0.2,\n",
        ")\n",
        "\n",
        "pd.DataFrame(history.history).plot(figsize=(8,5))\n",
        "plt.show()\n"
      ],
      "metadata": {
        "colab": {
          "base_uri": "https://localhost:8080/",
          "height": 494
        },
        "id": "S5IdA4fkX-OF",
        "outputId": "8068ef74-2178-43f9-b8d1-e50e5e52043b"
      },
      "execution_count": 9,
      "outputs": [
        {
          "output_type": "stream",
          "name": "stdout",
          "text": [
            "Epoch 1/5\n",
            "397/397 [==============================] - 16s 23ms/step - loss: 2.2623 - accuracy: 0.6479 - val_loss: 1.2794 - val_accuracy: 0.8020\n",
            "Epoch 2/5\n",
            "397/397 [==============================] - 8s 21ms/step - loss: 0.7700 - accuracy: 0.8924 - val_loss: 0.3538 - val_accuracy: 0.9591\n",
            "Epoch 3/5\n",
            "397/397 [==============================] - 9s 22ms/step - loss: 0.1821 - accuracy: 0.9836 - val_loss: 0.0787 - val_accuracy: 0.9955\n",
            "Epoch 4/5\n",
            "397/397 [==============================] - 8s 21ms/step - loss: 0.0313 - accuracy: 0.9992 - val_loss: 0.0182 - val_accuracy: 0.9993\n",
            "Epoch 5/5\n",
            "397/397 [==============================] - 8s 20ms/step - loss: 0.0063 - accuracy: 1.0000 - val_loss: 0.0079 - val_accuracy: 0.9995\n"
          ]
        },
        {
          "output_type": "display_data",
          "data": {
            "text/plain": [
              "<Figure size 576x360 with 1 Axes>"
            ],
            "image/png": "[encoded data removed]"
          },
          "metadata": {
            "needs_background": "light"
          }
        }
      ]
    },
    {
      "cell_type": "code",
      "source": [
        "latent_dim = 256\n",
        "\n",
        "encoder_inputs = Input(shape=(max_encoder_seq_length, ), dtype='int32',)\n",
        "encoder_embedding = Embedding(input_dim = vocab_size, \n",
        "                          output_dim = latent_dim)(encoder_inputs)\n",
        "encoder_GRU = GRU(latent_dim, return_state=True)\n",
        "encoder_outputs, state_h = encoder_GRU(encoder_embedding)\n",
        "\n",
        "decoder_inputs = Input(shape=(max_decoder_seq_length, ), dtype='int32',)\n",
        "decoder_embedding = Embedding(input_dim = vocab_size, \n",
        "                          output_dim = latent_dim)(decoder_inputs)\n",
        "decoder_GRU = GRU(latent_dim, return_state=True, return_sequences=True)\n",
        "decoder_outputs, _ = decoder_GRU(decoder_embedding, initial_state=state_h)\n",
        "\n",
        "decoder_dense = keras.layers.Dense(vocab_size, activation=\"softmax\")\n",
        "decoder_outputs = decoder_dense(decoder_outputs)\n",
        "model_gru = Model([encoder_inputs, decoder_inputs], decoder_outputs)"
      ],
      "metadata": {
        "id": "WihhVlg9jLSm"
      },
      "execution_count": 10,
      "outputs": []
    },
    {
      "cell_type": "code",
      "source": [
        "model_gru.compile(\n",
        "    optimizer=\"adam\", loss=\"categorical_crossentropy\", metrics=[\"accuracy\"]\n",
        ")\n",
        "history = model_gru.fit(\n",
        "    [encoder_input_data, decoder_input_data],\n",
        "    decoder_output_data,\n",
        "    batch_size=100,\n",
        "    epochs=5,\n",
        "    validation_split=0.2,\n",
        ")\n",
        "\n",
        "pd.DataFrame(history.history).plot(figsize=(8,5))\n",
        "plt.show()"
      ],
      "metadata": {
        "colab": {
          "base_uri": "https://localhost:8080/"
        },
        "id": "5EVtO0DWrGc2",
        "outputId": "46d9905d-97ad-416e-a185-89ae8ce26b0b"
      },
      "execution_count": null,
      "outputs": [
        {
          "output_type": "stream",
          "name": "stdout",
          "text": [
            "Epoch 1/5\n",
            "397/397 [==============================] - 12s 22ms/step - loss: 1.9376 - accuracy: 0.7201 - val_loss: 0.4972 - val_accuracy: 0.9387\n",
            "Epoch 2/5\n",
            "397/397 [==============================] - 8s 20ms/step - loss: 0.1562 - accuracy: 0.9854 - val_loss: 0.0291 - val_accuracy: 0.9987\n",
            "Epoch 3/5\n",
            "397/397 [==============================] - 8s 20ms/step - loss: 0.0088 - accuracy: 0.9999 - val_loss: 0.0095 - val_accuracy: 0.9994\n",
            "Epoch 4/5\n",
            "266/397 [===================>..........] - ETA: 2s - loss: 0.0032 - accuracy: 1.0000"
          ]
        }
      ]
    }
  ]
}