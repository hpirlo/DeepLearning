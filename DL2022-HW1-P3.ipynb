{
 "cells": [
  {
   "cell_type": "markdown",
   "source": [
    "# Deep Learning"
   ],
   "metadata": {
    "deletable": false,
    "editable": false,
    "heading_collapsed": true,
    "run_control": {
     "frozen": true
    }
   }
  },
  {
   "cell_type": "markdown",
   "source": [
    "## HW1- Problem 3 - Regression (100 pts)"
   ],
   "metadata": {
    "deletable": false,
    "editable": false,
    "heading_collapsed": true,
    "hidden": true,
    "run_control": {
     "frozen": true
    }
   }
  },
  {
   "cell_type": "markdown",
   "source": [
    "### Please fill this part\r\n",
    "\r\n",
    "\r\n",
    "1.   Full Name: Hossein Pirhosseinloo\r\n",
    "2.   Student Number: 400301834\r\n",
    "\r\n",
    "\r\n",
    "*You are just allowded to change those parts that start with \"TO DO\". Please do not change other parts.*\r\n",
    "\r\n",
    "*It is highly recommended to read each codeline carefully and try to understand what it exactly does. Best of luck and have fun!*"
   ],
   "metadata": {
    "heading_collapsed": true,
    "hidden": true
   }
  },
  {
   "cell_type": "code",
   "execution_count": 1,
   "source": [
    "# You are not allowed to import other packages.\r\n",
    "\r\n",
    "import numpy as np\r\n",
    "import pandas as pd\r\n",
    "\r\n",
    "from matplotlib import pyplot as plt\r\n",
    "from sklearn.metrics import mean_squared_error"
   ],
   "outputs": [],
   "metadata": {
    "hidden": true
   }
  },
  {
   "cell_type": "markdown",
   "source": [
    "### Part1:\n",
    "Consider the dataset which has been given to you. Split the dataset into the `training dataset` and `test dataset`. You can use `80%` of the data for training and the rest for testing."
   ],
   "metadata": {
    "deletable": false,
    "editable": false,
    "heading_collapsed": true,
    "hidden": true,
    "run_control": {
     "frozen": true
    }
   }
  },
  {
   "cell_type": "code",
   "execution_count": 63,
   "source": [
    "dataset = pd.read_csv(\"./data/data01.csv\")\r\n",
    "\r\n",
    "# implement the split part\r\n",
    "# name them: x_train, x_test, y_train, y_test\r\n",
    "\r\n",
    "x_train = dataset['X'].values[:int(len(dataset) * 0.8)].reshape(-1,1)\r\n",
    "y_train = dataset['Y'].values[:int(len(dataset) * 0.8)].reshape(-1,1)\r\n",
    "\r\n",
    "x_test = dataset['X'].values[int(len(dataset) * 0.8):].reshape(-1,1)\r\n",
    "y_test = dataset['Y'].values[int(len(dataset) * 0.8):].reshape(-1,1)"
   ],
   "outputs": [],
   "metadata": {
    "hidden": true
   }
  },
  {
   "cell_type": "markdown",
   "source": [
    "### Part2:\n",
    "Assume there is simple linear relationship between X and Y. Train a simple `Linear Regression` on the training dataset and report its accuracy on the training and testing dataset, separately."
   ],
   "metadata": {
    "deletable": false,
    "editable": false,
    "heading_collapsed": true,
    "hidden": true,
    "run_control": {
     "frozen": true
    }
   }
  },
  {
   "cell_type": "code",
   "execution_count": 92,
   "source": [
    "# here you can implement via sgd or use least square solution. we suggest the second one inv(A^T A) * A^T y.\r\n",
    "# consider m as the returned line --> m[0] = the slope , m[1] = y intercept, also don't forget to use numpy for calculating m.\r\n",
    "\r\n",
    "A=np.concatenate((np.ones(x_train.shape), x_train),axis=1)\r\n",
    "m = np.matmul(np.matmul(np.linalg.inv(np.matmul(A.T,A)),A.T),y_train)[::-1]\r\n",
    "print(m)"
   ],
   "outputs": [
    {
     "output_type": "stream",
     "name": "stdout",
     "text": [
      "[[-1.02641738]\n",
      " [ 0.81500634]]\n"
     ]
    }
   ],
   "metadata": {
    "hidden": true
   }
  },
  {
   "cell_type": "code",
   "execution_count": 93,
   "source": [
    "predicted_train_y = m[0] * x_train + m[1]\r\n",
    "predicted_test_y = m[0] * x_test + m[1]\r\n",
    "\r\n",
    "train_error = mean_squared_error(y_train, predicted_train_y)\r\n",
    "test_error = mean_squared_error(y_test, predicted_test_y)\r\n",
    "\r\n",
    "print(f\"MSE train error: {train_error}\\nMSE test error: {test_error}\")"
   ],
   "outputs": [
    {
     "output_type": "stream",
     "name": "stdout",
     "text": [
      "MSE train error: 0.3246776301777423\n",
      "MSE test error: 0.3544951192130029\n"
     ]
    }
   ],
   "metadata": {
    "hidden": true
   }
  },
  {
   "cell_type": "markdown",
   "source": [
    "### Part3:\n",
    "Draw the line you've found in the last part, on train and test points (each separately)."
   ],
   "metadata": {
    "deletable": false,
    "editable": false,
    "heading_collapsed": true,
    "hidden": true,
    "run_control": {
     "frozen": true
    }
   }
  },
  {
   "cell_type": "code",
   "execution_count": 94,
   "source": [
    "plt.scatter(x_train, y_train)\r\n",
    "plt.scatter(x_train, m[0]*x_train + m[1], s=1)\r\n",
    "plt.title(\"Train dataset\")"
   ],
   "outputs": [
    {
     "output_type": "execute_result",
     "data": {
      "text/plain": [
       "Text(0.5, 1.0, 'Train dataset')"
      ]
     },
     "metadata": {},
     "execution_count": 94
    },
    {
     "output_type": "display_data",
     "data": {
      "image/png": "[encoded data removed]",
      "text/plain": [
       "<Figure size 432x288 with 1 Axes>"
      ]
     },
     "metadata": {
      "needs_background": "light"
     }
    }
   ],
   "metadata": {
    "hidden": true
   }
  },
  {
   "cell_type": "code",
   "execution_count": 95,
   "source": [
    "plt.scatter(x_test, y_test)\r\n",
    "plt.scatter(x_test, m[0]*x_test + m[1], s=1)\r\n",
    "plt.title(\"Test dataset\")"
   ],
   "outputs": [
    {
     "output_type": "execute_result",
     "data": {
      "text/plain": [
       "Text(0.5, 1.0, 'Test dataset')"
      ]
     },
     "metadata": {},
     "execution_count": 95
    },
    {
     "output_type": "display_data",
     "data": {
      "image/png": "[encoded data removed]",
      "text/plain": [
       "<Figure size 432x288 with 1 Axes>"
      ]
     },
     "metadata": {
      "needs_background": "light"
     }
    }
   ],
   "metadata": {
    "hidden": true
   }
  },
  {
   "cell_type": "markdown",
   "source": [
    "### Part4:\n",
    "Were the reported accuracies acceptable?\n",
    "\n",
    "What about the line you drew in the last part?\n",
    "\n",
    "Was it appropriate for the dataset?\n",
    "<br><br/>\n",
    "Explain what are the main problems here."
   ],
   "metadata": {
    "deletable": false,
    "editable": false,
    "heading_collapsed": true,
    "hidden": true,
    "run_control": {
     "frozen": true
    }
   }
  },
  {
   "cell_type": "markdown",
   "source": [
    "از آنجایی که داده های آموزش و تست واریانس زیادی داره مدل کردن آن با رگرسیون خطی گلوبال نتایج مطلوبی به دست نداده و در هیچ مورد آموزش و تست تخمین مورد نظر نتوانسته به درستی داده ها را دنبال کند و خطای نسبتا زیادی دارد.\r\n",
    "\r\n",
    "خطوط رسم شده برای تست نتوانسته به درستی داده های تست را دنبال کند.\r\n",
    "\r\n",
    "بنابراین نتیجه میگیریم برای این دیتاست که واریانس زیادی دارد استفاده از رگرسیون خطی مناسب نیست.\r\n",
    "\r\n",
    "مشکل اصلی در اینجا واریانس زیاد داده های آموزش و تست است. بنابراین بهتر است از روش های دیگری برای تخمین استفاده کنیم."
   ],
   "metadata": {
    "hidden": true
   }
  },
  {
   "cell_type": "markdown",
   "source": [
    "### Part5:\n",
    "Now, consider the `Locally Weighted Linear Regression` approach for this problem. Do expect it performs better than simple `Linear Regression` for this dataset?"
   ],
   "metadata": {
    "deletable": false,
    "editable": false,
    "heading_collapsed": true,
    "hidden": true,
    "run_control": {
     "frozen": true
    }
   }
  },
  {
   "cell_type": "markdown",
   "source": [
    "از آنجایی که رگرسیون خطی محلی وزندار بهتر می تواند داده های با واریانس زیاد را تعقیب کند قطعا روش بهتری برای آموزش دادن تخمینگر در این مورد است. در واقع با توجه به تغییرات زیاد داده های آموزش و تست می توان بازه های آن ها را به چند قسمت تقسیم کرده و در هر قسمت که واریانس کمی دارد یک رگرسیون را به عنوان تخمینگر استفاده کنیم."
   ],
   "metadata": {
    "hidden": true
   }
  },
  {
   "cell_type": "markdown",
   "source": [
    "### Part6:\r\n",
    "Here, we want to implement the `suggested model`. You can implement any weight function you want, the below implementation is just a sample:\r\n",
    "<br><br/>\r\n",
    "$\\begin{equation*}\r\n",
    "    w^{(i)}=exp\\left(-\\frac{(\\mathbf x^{(i)}-\\mathbf x)^\\top(\\mathbf x^{(i)}-\\mathbf x)}{2\\tau^2}\\right)\r\n",
    "\\end{equation*}$"
   ],
   "metadata": {
    "deletable": false,
    "editable": false,
    "heading_collapsed": true,
    "hidden": true,
    "run_control": {
     "frozen": true
    }
   }
  },
  {
   "cell_type": "code",
   "execution_count": 260,
   "source": [
    "def get_weight_matrix(the_query_point, train_dataset, hyperparameter):\r\n",
    "    l = train_dataset.shape[0]\r\n",
    "    W = np.mat(np.eye(l))\r\n",
    "    for i, xi in enumerate(train_dataset):\r\n",
    "        W[i, i] = np.exp((-((xi[1]-the_query_point[0]))*(xi[1]-the_query_point[0]))/(2*hyperparameter*hyperparameter))\r\n",
    "    return W"
   ],
   "outputs": [],
   "metadata": {
    "hidden": true
   }
  },
  {
   "cell_type": "markdown",
   "source": [
    "Now implement the `closed form solution` based on the following formula:\r\n",
    "<br><br/>\r\n",
    "$\\begin{equation*}\r\n",
    "    \\boldsymbol\\theta=(X^\\top WX)^{-1}(X^\\top WY)\r\n",
    "\\end{equation*}$\r\n",
    "<br><br/>\r\n",
    "Of course if you use another form, implement your own."
   ],
   "metadata": {
    "deletable": false,
    "editable": false,
    "hidden": true,
    "run_control": {
     "frozen": true
    }
   }
  },
  {
   "cell_type": "code",
   "execution_count": 271,
   "source": [
    "def predict(train_X, train_Y, query_x, hyperparameter):\r\n",
    "    l = train_X.shape[0]\r\n",
    "    X = np.concatenate((np.ones(x_train.shape), x_train),axis=1)\r\n",
    "    qx = np.mat([1, query_x])\r\n",
    "    W = get_weight_matrix(query_x, X, hyperparameter)\r\n",
    "    theta = np.matmul(np.linalg.inv(np.matmul(np.matmul(X.T,W),X)), np.matmul(np.matmul(X.T,W),train_Y))\r\n",
    "    return np.dot(qx, theta).item(0)"
   ],
   "outputs": [],
   "metadata": {
    "hidden": true
   }
  },
  {
   "cell_type": "markdown",
   "source": [
    "### Part7:\n",
    "Report accuracy of this model on the test dataset. Also, draw a plot that contains (x_test, y_test) pairs and (x_test, predicted_y) pairs that differ in color."
   ],
   "metadata": {
    "deletable": false,
    "editable": false,
    "heading_collapsed": true,
    "hidden": true,
    "run_control": {
     "frozen": true
    }
   }
  },
  {
   "cell_type": "code",
   "execution_count": 277,
   "source": [
    "hyperparameter = 0.01\r\n",
    "predicted_test = [predict(x_train, y_train, query, hyperparameter) for query in x_test]\r\n",
    "error = mean_squared_error(y_test, predicted_test)\r\n",
    "print(f\"MSE test error: {error}\")"
   ],
   "outputs": [
    {
     "output_type": "stream",
     "name": "stderr",
     "text": [
      "C:\\Users\\Hossein\\AppData\\Local\\Programs\\Python\\Python310\\lib\\site-packages\\numpy\\matrixlib\\defmatrix.py:145: VisibleDeprecationWarning: Creating an ndarray from ragged nested sequences (which is a list-or-tuple of lists-or-tuples-or ndarrays with different lengths or shapes) is deprecated. If you meant to do this, you must specify 'dtype=object' when creating the ndarray.\n",
      "  arr = N.array(data, dtype=dtype, copy=copy)\n"
     ]
    },
    {
     "output_type": "stream",
     "name": "stdout",
     "text": [
      "MSE test error: 0.0957544740372434\n"
     ]
    }
   ],
   "metadata": {
    "hidden": true
   }
  },
  {
   "cell_type": "code",
   "execution_count": 278,
   "source": [
    "plt.scatter(x_test, y_test, c=\"blue\")\r\n",
    "plt.scatter(x_test, predicted_test, c=\"yellow\")"
   ],
   "outputs": [
    {
     "output_type": "execute_result",
     "data": {
      "text/plain": [
       "<matplotlib.collections.PathCollection at 0x25a69d4ab90>"
      ]
     },
     "metadata": {},
     "execution_count": 278
    },
    {
     "output_type": "display_data",
     "data": {
      "image/png": "[encoded data removed]",
      "text/plain": [
       "<Figure size 432x288 with 1 Axes>"
      ]
     },
     "metadata": {
      "needs_background": "light"
     }
    }
   ],
   "metadata": {
    "hidden": true
   }
  },
  {
   "cell_type": "markdown",
   "source": [
    "### Part8:\n",
    "Is the performance of the new model better than the previous one? `Explain`."
   ],
   "metadata": {
    "deletable": false,
    "editable": false,
    "heading_collapsed": true,
    "hidden": true,
    "run_control": {
     "frozen": true
    }
   }
  },
  {
   "cell_type": "markdown",
   "source": [
    "بله کارایی در اینجا به طور قابل توجهی افزایش یافته است. این مورد در مقدار خطا هم مشخص است. همچنین داده های تخمین زده شده بسیار نزدیکتر به داده های تست است. این نشان می دهد که مدل ما واریانس بیشتری پیدا کرده است."
   ],
   "metadata": {
    "hidden": true
   }
  },
  {
   "cell_type": "markdown",
   "source": [
    "### Part9:\n",
    "Now, we want to consider the `KNN` approach for this problem; Do you think it will perform well?"
   ],
   "metadata": {
    "deletable": false,
    "editable": false,
    "heading_collapsed": true,
    "hidden": true,
    "run_control": {
     "frozen": true
    }
   }
  },
  {
   "cell_type": "markdown",
   "source": [
    "از آنجایی که روش KNN یک روش محلی محسوب می شود در نتیجه استفاده از آن می تواند واریانس بیشتری نسبت به مدل رگرسیون خطی داشته باشد. اما به صورت کلی نمی توان گفت که در مقابل رگرسیون محلی چه عملکردی دارد و عملکرد آن وابسته به داده های آموزش و تست و همچنین هایپرپارامترهای استفاده شده است."
   ],
   "metadata": {
    "hidden": true
   }
  },
  {
   "cell_type": "markdown",
   "source": [
    "### Part10:\n",
    "Implementing the `KNN model`."
   ],
   "metadata": {
    "deletable": false,
    "editable": false,
    "heading_collapsed": true,
    "hidden": true,
    "run_control": {
     "frozen": true
    }
   }
  },
  {
   "cell_type": "code",
   "execution_count": 346,
   "source": [
    "class KNN:\r\n",
    "    def __init__(self, number_neighbours, X, Y):\r\n",
    "        self.k = number_neighbours\r\n",
    "        self.X = X\r\n",
    "        self.Y = Y\r\n",
    "\r\n",
    "    def distance(self, x1, x2):\r\n",
    "        distance = abs(x1-x2)\r\n",
    "        return distance\r\n",
    "\r\n",
    "    def return_nn_ids(self, x):\r\n",
    "        d = [(self.distance(x[0],val[0]),i) for i, val in enumerate(self.X)]\r\n",
    "        d.sort(key=lambda a: a[0])\r\n",
    "        indices = [val[1] for i, val in enumerate(d) if i < self.k] # find indices of k nearest neighbours to x\r\n",
    "        return indices\r\n",
    "\r\n",
    "    def predict(self, x):\r\n",
    "        neareest_indices = self.return_nn_ids(x)\r\n",
    "        y_list= self.Y[neareest_indices]\r\n",
    "        predicted_y = y_list.mean()\r\n",
    "        return predicted_y"
   ],
   "outputs": [],
   "metadata": {
    "hidden": true
   }
  },
  {
   "cell_type": "code",
   "execution_count": 347,
   "source": [
    "def evaluation(k, x_train, y_train, x_test, y_test):\r\n",
    "    model = KNN(k, x_train, y_train)\r\n",
    "    predicted_y = [model.predict(x) for x in x_test]\r\n",
    "    # error = ...\r\n",
    "    return error, predicted_y"
   ],
   "outputs": [],
   "metadata": {
    "hidden": true
   }
  },
  {
   "cell_type": "code",
   "execution_count": 348,
   "source": [
    "k = 3\r\n",
    "error_knn, predicted_y = evaluation(k, x_train, y_train, x_test, y_test)\r\n",
    "print(f\"MSE error of KNN for test dataset: {error_knn}\")"
   ],
   "outputs": [
    {
     "output_type": "stream",
     "name": "stdout",
     "text": [
      "MSE error of KNN for test dataset: 0.0957544740372434\n"
     ]
    }
   ],
   "metadata": {
    "hidden": true
   }
  },
  {
   "cell_type": "code",
   "execution_count": 349,
   "source": [
    "plt.scatter(x_test, y_test, c=\"blue\")\r\n",
    "plt.scatter(x_test, predicted_y, c=\"yellow\")"
   ],
   "outputs": [
    {
     "output_type": "execute_result",
     "data": {
      "text/plain": [
       "<matplotlib.collections.PathCollection at 0x25a69f417b0>"
      ]
     },
     "metadata": {},
     "execution_count": 349
    },
    {
     "output_type": "display_data",
     "data": {
      "image/png": "[encoded data removed]",
      "text/plain": [
       "<Figure size 432x288 with 1 Axes>"
      ]
     },
     "metadata": {
      "needs_background": "light"
     }
    }
   ],
   "metadata": {
    "hidden": true
   }
  },
  {
   "cell_type": "markdown",
   "source": [
    "To find best K for this algorithm we suggest to use cross-validation.\n",
    "<br><br/>\n",
    "Did this model perform well (due to the plot and test accuracy)?"
   ],
   "metadata": {
    "deletable": false,
    "editable": false,
    "hidden": true,
    "run_control": {
     "frozen": true
    }
   }
  },
  {
   "cell_type": "markdown",
   "source": [
    "همانطور که گفته شد از آنجایی که این روش محلی است انتظار داریم که رفتار بهتری نسبت به رگرسیون خطی داشته باشد. در تصاویر هم مشخص است که داده های تخمین زده شده تا حد خوبی داده های تست را تخمین زده اند و خطای گزارش شده هم نزدیک به خطار رگرسیون محلی و خیلی کمتر از رگرسیون خطی است."
   ],
   "metadata": {
    "hidden": true
   }
  }
 ],
 "metadata": {
  "kernelspec": {
   "name": "python3",
   "display_name": "Python 3.10.0 64-bit"
  },
  "language_info": {
   "codemirror_mode": {
    "name": "ipython",
    "version": 3
   },
   "file_extension": ".py",
   "mimetype": "text/x-python",
   "name": "python",
   "nbconvert_exporter": "python",
   "pygments_lexer": "ipython3",
   "version": "3.10.0"
  },
  "toc": {
   "base_numbering": 1,
   "nav_menu": {},
   "number_sections": true,
   "sideBar": true,
   "skip_h1_title": false,
   "title_cell": "Table of Contents",
   "title_sidebar": "Contents",
   "toc_cell": false,
   "toc_position": {},
   "toc_section_display": true,
   "toc_window_display": false
  },
  "varInspector": {
   "cols": {
    "lenName": 16,
    "lenType": 16,
    "lenVar": 40
   },
   "kernels_config": {
    "python": {
     "delete_cmd_postfix": "",
     "delete_cmd_prefix": "del ",
     "library": "var_list.py",
     "varRefreshCmd": "print(var_dic_list())"
    },
    "r": {
     "delete_cmd_postfix": ") ",
     "delete_cmd_prefix": "rm(",
     "library": "var_list.r",
     "varRefreshCmd": "cat(var_dic_list()) "
    }
   },
   "types_to_exclude": [
    "module",
    "function",
    "builtin_function_or_method",
    "instance",
    "_Feature"
   ],
   "window_display": false
  },
  "vscode": {
   "interpreter": {
    "hash": "aee8b7b246df8f9039afb4144a1f6fd8d2ca17a180786b69acc140d282b71a49"
   }
  },
  "interpreter": {
   "hash": "b4ac89ca8110d5581a996b16751c13b14f6720bbc267ded18940e5edde73f29f"
  }
 },
 "nbformat": 4,
 "nbformat_minor": 4
}